{
 "cells": [
  {
   "cell_type": "markdown",
   "id": "91f34faf",
   "metadata": {},
   "source": [
    "# Feature Engineering"
   ]
  },
  {
   "cell_type": "markdown",
   "id": "0b0653ee",
   "metadata": {},
   "source": [
    "The second step of this project is feature engineering. In this notebook, I've done several things:\n",
    "\n",
    "* Generated 10 new features, including:\n",
    "    * Bank ID\n",
    "    * Expense Type\n",
    "    * Rent-to-Income Ratio\n",
    "    * Measures of timing and seasonality\n",
    "* Recoded 4 old features, including:\n",
    "    * Duration of email, residence, and bank account\n",
    "    * Payment Frequency\n",
    "* Imputed missing data using sklearn imputer modules\n",
    "* Standardized contiuous variables to mean = 0, stdev = 1\n",
    "* One-hot encoded categorical variables into 42 new binary variables\n",
    "* Dynamically expanded data dictionary to 89 entries"
   ]
  },
  {
   "cell_type": "code",
   "execution_count": 1,
   "id": "5ea35708",
   "metadata": {},
   "outputs": [],
   "source": [
    "import pandas as pd\n",
    "import numpy as np\n",
    "import warnings\n",
    "\n",
    "import scipy.stats\n",
    "import sklearn\n",
    "import xgboost\n",
    "import statsmodels.api as sm\n",
    "\n",
    "from sklearn.impute import SimpleImputer, KNNImputer\n",
    "\n",
    "from utils import *\n",
    "\n",
    "pd.set_option('display.max_rows', 200)\n",
    "pd.set_option('display.max_columns', 50)"
   ]
  },
  {
   "cell_type": "code",
   "execution_count": 2,
   "id": "ecf4ed19",
   "metadata": {},
   "outputs": [],
   "source": [
    "data = pd.read_pickle('output_data/00_data.pkl')\n",
    "data_dict = pd.read_pickle('output_data/00_data_dict.pkl')"
   ]
  },
  {
   "cell_type": "markdown",
   "id": "c591c1d3",
   "metadata": {},
   "source": [
    "# Building New Features"
   ]
  },
  {
   "cell_type": "markdown",
   "id": "11daf065",
   "metadata": {},
   "source": [
    "## Deriving Bank Information from Routing Number"
   ]
  },
  {
   "cell_type": "markdown",
   "id": "a89308a2",
   "metadata": {},
   "source": [
    "Bank information can be derived from the provided bank routing number. [Plaid](https://plaid.com/resources/banking/account-numbers-explained/) provides the following explanation: \n",
    "\n",
    ">* The first four digits of a routing number are called the Federal Reserve Processing Symbol.\n",
    ">* The first two digits are typically a number between 01-12. These numbers refer to the head branch of the Federal Reserve District Office under which the bank falls. The Districts start with 01 in Boston and end with 12 in San Francisco and often encompass surrounding states. A range of 61-72 is assigned to non-bank payment processors and the number 80 to travelers’ checks.\n",
    ">* The third digit identifies the Regional Federal Reserve Processing Center assigned to the bank within its district. For example, “1” would indicate bank check processing center 1.\n",
    ">* The fourth digit indicates the bank’s location within a Federal Reserve District. A bank that is located in a Federal Reserve District is designated with a 0. Numbers 1-9 are used according to the state that the Federal Reserve District is in.\n",
    ">* Digits **five through eight comprise a unique identity code** assigned to the bank by the American Bankers Association. \n",
    ">* The final digit of the routing number is called a “check digit.” Whereas the other digits refer to identifying information about the specific financial institution, the check digit is calculated using the other eight digits as a way to ensure authenticity and prevent fraud. (Thus “check” is used in the sense of “verify” rather than “paper check.”) \n",
    "\n",
    "Because the Federal Reserve Districts and Processing Centers are primarily geographic, and geography is suspect as a credit underwriting criteria under ECOA because of potential for disparate impact, I have not used the first four digits of the routing number as a feature of the model. \n",
    "\n",
    "Instead I generated a new variable called 'bank_id' consisting of digits five through eight in the routing number and identifying an individual bank. This allows us to monitor which banks see high default rates, perhaps indicating a low underlying quality of the credit pool and leading to more defaults in the future. "
   ]
  },
  {
   "cell_type": "code",
   "execution_count": 3,
   "id": "ef923a0f",
   "metadata": {},
   "outputs": [],
   "source": [
    "# Generate bank_id\n",
    "data['bank_id'] = data['bank_routing_number'].astype(str).str.slice(4,8)"
   ]
  },
  {
   "cell_type": "code",
   "execution_count": 4,
   "id": "6abd298f",
   "metadata": {},
   "outputs": [
    {
     "name": "stdout",
     "output_type": "stream",
     "text": [
      "6 banks have a sample of 30 or more customers.\n",
      "They are: ['0297', '0154', '7751', '0005', '0215', '7955']\n"
     ]
    }
   ],
   "source": [
    "# Assess the available sample size of bank_ids\n",
    "bank_id_value_counts = pd.DataFrame(data['bank_id'].value_counts()).reset_index()\n",
    "bank_id_value_counts.rename({'bank_id': 'count',\n",
    "                             'index': 'bank_id'}, \n",
    "                            axis = 1, inplace=True)\n",
    "bank_id_n30 = bank_id_value_counts.loc[bank_id_value_counts['count'] > 30,\n",
    "                                      'bank_id'].values\n",
    "bank_id_n30 = list(bank_id_n30)\n",
    "\n",
    "print(f\"{len(bank_id_n30)} banks have a sample of 30 or more customers.\")\n",
    "print(f\"They are: {bank_id_n30}\")"
   ]
  },
  {
   "cell_type": "code",
   "execution_count": 5,
   "id": "bdd73a94",
   "metadata": {},
   "outputs": [],
   "source": [
    "# Suppress individual banks with sample sizes of <30 customers\n",
    "data.loc[~data['bank_id'].isin(bank_id_n30), 'bank_id'] = '9999'"
   ]
  },
  {
   "cell_type": "code",
   "execution_count": 6,
   "id": "2643a6b0",
   "metadata": {},
   "outputs": [],
   "source": [
    "# Add bank_id to the data dictionary\n",
    "# Function from utils.py\n",
    "data_dict = add_entry_to_dictionary(data, data_dict, 'bank_id', \n",
    "                                    eda_category = 'personal_finance',\n",
    "                                    categorical = 1)"
   ]
  },
  {
   "cell_type": "code",
   "execution_count": 7,
   "id": "20366cd8",
   "metadata": {},
   "outputs": [
    {
     "data": {
      "text/html": [
       "<div>\n",
       "<style scoped>\n",
       "    .dataframe tbody tr th:only-of-type {\n",
       "        vertical-align: middle;\n",
       "    }\n",
       "\n",
       "    .dataframe tbody tr th {\n",
       "        vertical-align: top;\n",
       "    }\n",
       "\n",
       "    .dataframe thead tr th {\n",
       "        text-align: left;\n",
       "    }\n",
       "\n",
       "    .dataframe thead tr:last-of-type th {\n",
       "        text-align: right;\n",
       "    }\n",
       "</style>\n",
       "<table border=\"1\" class=\"dataframe\">\n",
       "  <thead>\n",
       "    <tr>\n",
       "      <th></th>\n",
       "      <th colspan=\"2\" halign=\"left\">bad</th>\n",
       "      <th>bad_rate</th>\n",
       "    </tr>\n",
       "    <tr>\n",
       "      <th></th>\n",
       "      <th>sum</th>\n",
       "      <th>count</th>\n",
       "      <th></th>\n",
       "    </tr>\n",
       "    <tr>\n",
       "      <th>bank_id</th>\n",
       "      <th></th>\n",
       "      <th></th>\n",
       "      <th></th>\n",
       "    </tr>\n",
       "  </thead>\n",
       "  <tbody>\n",
       "    <tr>\n",
       "      <th>0215</th>\n",
       "      <td>14</td>\n",
       "      <td>33</td>\n",
       "      <td>0.424242</td>\n",
       "    </tr>\n",
       "    <tr>\n",
       "      <th>7751</th>\n",
       "      <td>24</td>\n",
       "      <td>53</td>\n",
       "      <td>0.452830</td>\n",
       "    </tr>\n",
       "    <tr>\n",
       "      <th>0154</th>\n",
       "      <td>33</td>\n",
       "      <td>72</td>\n",
       "      <td>0.458333</td>\n",
       "    </tr>\n",
       "    <tr>\n",
       "      <th>9999</th>\n",
       "      <td>194</td>\n",
       "      <td>345</td>\n",
       "      <td>0.562319</td>\n",
       "    </tr>\n",
       "    <tr>\n",
       "      <th>7955</th>\n",
       "      <td>18</td>\n",
       "      <td>32</td>\n",
       "      <td>0.562500</td>\n",
       "    </tr>\n",
       "    <tr>\n",
       "      <th>0005</th>\n",
       "      <td>23</td>\n",
       "      <td>40</td>\n",
       "      <td>0.575000</td>\n",
       "    </tr>\n",
       "    <tr>\n",
       "      <th>0297</th>\n",
       "      <td>47</td>\n",
       "      <td>75</td>\n",
       "      <td>0.626667</td>\n",
       "    </tr>\n",
       "  </tbody>\n",
       "</table>\n",
       "</div>"
      ],
      "text/plain": [
       "         bad        bad_rate\n",
       "         sum count          \n",
       "bank_id                     \n",
       "0215      14    33  0.424242\n",
       "7751      24    53  0.452830\n",
       "0154      33    72  0.458333\n",
       "9999     194   345  0.562319\n",
       "7955      18    32  0.562500\n",
       "0005      23    40  0.575000\n",
       "0297      47    75  0.626667"
      ]
     },
     "execution_count": 7,
     "metadata": {},
     "output_type": "execute_result"
    }
   ],
   "source": [
    "# Show values\n",
    "bad_rate_by_category(data, 'bank_id')"
   ]
  },
  {
   "cell_type": "markdown",
   "id": "fe8c76e9",
   "metadata": {},
   "source": [
    "## Timestamp, Seasonality, and Secular Trends"
   ]
  },
  {
   "cell_type": "code",
   "execution_count": 8,
   "id": "c1bfa364",
   "metadata": {},
   "outputs": [],
   "source": [
    "# Generating variables based on time of application\n",
    "data['application_year'] = data['application_when'].dt.year\n",
    "data['application_month'] = data['application_when'].dt.month\n",
    "data['application_day_of_year'] = (data['application_month'] * 30 + \\\n",
    "                                   data['application_when'].dt.day)\n",
    "data['application_month_of_cycle'] = (data['application_month'] - 10) % 12\n",
    "data['application_hour_of_day'] = data['application_when'].dt.hour\n",
    "data['application_day_of_week'] = data['application_when'].dt.weekday"
   ]
  },
  {
   "cell_type": "markdown",
   "id": "2298c51a",
   "metadata": {},
   "source": [
    "After some data exploration, the above variables do not look great.\n",
    "Clearly the default rate falls between the first application in \n",
    "October 2010 and the last one in April 2011. This is a trend that \n",
    "should be corrected for, not depended upon, by our default model. \n",
    "\n",
    "Later in the model process, I will implement a train-test split that \n",
    "depends on the month of application. This will solve the look-ahead\n",
    "problem and make our accuracy estimates more reliable. "
   ]
  },
  {
   "cell_type": "code",
   "execution_count": 9,
   "id": "7b55d407",
   "metadata": {},
   "outputs": [
    {
     "data": {
      "text/html": [
       "<div>\n",
       "<style scoped>\n",
       "    .dataframe tbody tr th:only-of-type {\n",
       "        vertical-align: middle;\n",
       "    }\n",
       "\n",
       "    .dataframe tbody tr th {\n",
       "        vertical-align: top;\n",
       "    }\n",
       "\n",
       "    .dataframe thead tr th {\n",
       "        text-align: left;\n",
       "    }\n",
       "\n",
       "    .dataframe thead tr:last-of-type th {\n",
       "        text-align: right;\n",
       "    }\n",
       "</style>\n",
       "<table border=\"1\" class=\"dataframe\">\n",
       "  <thead>\n",
       "    <tr>\n",
       "      <th></th>\n",
       "      <th colspan=\"2\" halign=\"left\">bad</th>\n",
       "      <th>bad_rate</th>\n",
       "    </tr>\n",
       "    <tr>\n",
       "      <th></th>\n",
       "      <th>sum</th>\n",
       "      <th>count</th>\n",
       "      <th></th>\n",
       "    </tr>\n",
       "    <tr>\n",
       "      <th>application_month</th>\n",
       "      <th></th>\n",
       "      <th></th>\n",
       "      <th></th>\n",
       "    </tr>\n",
       "  </thead>\n",
       "  <tbody>\n",
       "    <tr>\n",
       "      <th>1</th>\n",
       "      <td>67</td>\n",
       "      <td>110</td>\n",
       "      <td>0.609091</td>\n",
       "    </tr>\n",
       "    <tr>\n",
       "      <th>2</th>\n",
       "      <td>74</td>\n",
       "      <td>131</td>\n",
       "      <td>0.564885</td>\n",
       "    </tr>\n",
       "    <tr>\n",
       "      <th>3</th>\n",
       "      <td>70</td>\n",
       "      <td>149</td>\n",
       "      <td>0.469799</td>\n",
       "    </tr>\n",
       "    <tr>\n",
       "      <th>4</th>\n",
       "      <td>47</td>\n",
       "      <td>95</td>\n",
       "      <td>0.494737</td>\n",
       "    </tr>\n",
       "    <tr>\n",
       "      <th>10</th>\n",
       "      <td>11</td>\n",
       "      <td>18</td>\n",
       "      <td>0.611111</td>\n",
       "    </tr>\n",
       "    <tr>\n",
       "      <th>11</th>\n",
       "      <td>37</td>\n",
       "      <td>58</td>\n",
       "      <td>0.637931</td>\n",
       "    </tr>\n",
       "    <tr>\n",
       "      <th>12</th>\n",
       "      <td>47</td>\n",
       "      <td>89</td>\n",
       "      <td>0.528090</td>\n",
       "    </tr>\n",
       "  </tbody>\n",
       "</table>\n",
       "</div>"
      ],
      "text/plain": [
       "                  bad        bad_rate\n",
       "                  sum count          \n",
       "application_month                    \n",
       "1                  67   110  0.609091\n",
       "2                  74   131  0.564885\n",
       "3                  70   149  0.469799\n",
       "4                  47    95  0.494737\n",
       "10                 11    18  0.611111\n",
       "11                 37    58  0.637931\n",
       "12                 47    89  0.528090"
      ]
     },
     "execution_count": 9,
     "metadata": {},
     "output_type": "execute_result"
    }
   ],
   "source": [
    "bad_rate_by_category(data, 'application_month').sort_index()"
   ]
  },
  {
   "cell_type": "markdown",
   "id": "5ae23771",
   "metadata": {},
   "source": [
    "One potentially useful variable looks to be time of day. The middle\n",
    "of the day seems to have the lowest default rates, while later and \n",
    "earlier have higher defaults. Above we generate a new variable for this,\n",
    "and below we check the default rate when categorized as such. "
   ]
  },
  {
   "cell_type": "code",
   "execution_count": 10,
   "id": "569fce6b",
   "metadata": {},
   "outputs": [],
   "source": [
    "data['application_third_of_day'] = np.floor(data['application_hour_of_day'] / 8)"
   ]
  },
  {
   "cell_type": "code",
   "execution_count": 11,
   "id": "08623d10",
   "metadata": {},
   "outputs": [
    {
     "data": {
      "text/html": [
       "<div>\n",
       "<style scoped>\n",
       "    .dataframe tbody tr th:only-of-type {\n",
       "        vertical-align: middle;\n",
       "    }\n",
       "\n",
       "    .dataframe tbody tr th {\n",
       "        vertical-align: top;\n",
       "    }\n",
       "\n",
       "    .dataframe thead tr th {\n",
       "        text-align: left;\n",
       "    }\n",
       "\n",
       "    .dataframe thead tr:last-of-type th {\n",
       "        text-align: right;\n",
       "    }\n",
       "</style>\n",
       "<table border=\"1\" class=\"dataframe\">\n",
       "  <thead>\n",
       "    <tr>\n",
       "      <th></th>\n",
       "      <th colspan=\"2\" halign=\"left\">bad</th>\n",
       "      <th>bad_rate</th>\n",
       "    </tr>\n",
       "    <tr>\n",
       "      <th></th>\n",
       "      <th>sum</th>\n",
       "      <th>count</th>\n",
       "      <th></th>\n",
       "    </tr>\n",
       "    <tr>\n",
       "      <th>application_third_of_day</th>\n",
       "      <th></th>\n",
       "      <th></th>\n",
       "      <th></th>\n",
       "    </tr>\n",
       "  </thead>\n",
       "  <tbody>\n",
       "    <tr>\n",
       "      <th>1.0</th>\n",
       "      <td>192</td>\n",
       "      <td>379</td>\n",
       "      <td>0.506596</td>\n",
       "    </tr>\n",
       "    <tr>\n",
       "      <th>2.0</th>\n",
       "      <td>115</td>\n",
       "      <td>195</td>\n",
       "      <td>0.589744</td>\n",
       "    </tr>\n",
       "    <tr>\n",
       "      <th>0.0</th>\n",
       "      <td>46</td>\n",
       "      <td>76</td>\n",
       "      <td>0.605263</td>\n",
       "    </tr>\n",
       "  </tbody>\n",
       "</table>\n",
       "</div>"
      ],
      "text/plain": [
       "                          bad        bad_rate\n",
       "                          sum count          \n",
       "application_third_of_day                     \n",
       "1.0                       192   379  0.506596\n",
       "2.0                       115   195  0.589744\n",
       "0.0                        46    76  0.605263"
      ]
     },
     "execution_count": 11,
     "metadata": {},
     "output_type": "execute_result"
    }
   ],
   "source": [
    "bad_rate_by_category(data, 'application_third_of_day')"
   ]
  },
  {
   "cell_type": "markdown",
   "id": "1748647d",
   "metadata": {},
   "source": [
    "Finally, let's input these new variables into the data dictionary. I've defined a function in utils.py for this purpose. "
   ]
  },
  {
   "cell_type": "code",
   "execution_count": 12,
   "id": "014af456",
   "metadata": {},
   "outputs": [],
   "source": [
    "# Data Dictionary entries\n",
    "# List of tuples consisting of (variable_name, categorical_bool)\n",
    "timestamp_vars = [('application_year', 1),\n",
    "                  ('application_month', 1),\n",
    "                  ('application_day_of_year', 0),\n",
    "                  ('application_month_of_cycle', 0),\n",
    "                  ('application_hour_of_day', 0),\n",
    "                  ('application_day_of_week', 1),\n",
    "                  ('application_third_of_day', 1)]\n",
    "\n",
    "# Dynamically add entries to data dictionary\n",
    "for var_name, cat_bool in timestamp_vars:\n",
    "    # Function from utils.py\n",
    "    data_dict = add_entry_to_dictionary(data, data_dict, var_name, \n",
    "                                eda_category = 'other_info',\n",
    "                                categorical = cat_bool)"
   ]
  },
  {
   "cell_type": "markdown",
   "id": "c6005b92",
   "metadata": {},
   "source": [
    "## Rent to Income Ratio"
   ]
  },
  {
   "cell_type": "markdown",
   "id": "37f65a35",
   "metadata": {},
   "source": [
    "Some of the most commonly used credit underwriting criteria measure the difference between cashflows and costs. Debt to income ratio, payment to income ratio, measures of disposable income, and so forth. While we do not have all the information necessary to compute all of these statistics, we can use a simple measure of rent-to-income. "
   ]
  },
  {
   "cell_type": "code",
   "execution_count": 13,
   "id": "39b6bf5b",
   "metadata": {},
   "outputs": [],
   "source": [
    "data['rent_to_income_ratio'] = data['monthly_rent_amount'] / data['monthly_income_amount']"
   ]
  },
  {
   "cell_type": "code",
   "execution_count": 14,
   "id": "3cf895ee",
   "metadata": {},
   "outputs": [],
   "source": [
    "# Add to data dictionary\n",
    "data_dict = add_entry_to_dictionary(data, data_dict, \n",
    "                                    'rent_to_income_ratio', \n",
    "                                    eda_category = 'personal_finance',\n",
    "                                    categorical = 0)"
   ]
  },
  {
   "cell_type": "markdown",
   "id": "c882bea1",
   "metadata": {},
   "source": [
    "## Expense Type"
   ]
  },
  {
   "cell_type": "code",
   "execution_count": 15,
   "id": "d6f70a4e",
   "metadata": {},
   "outputs": [],
   "source": [
    "# Combine categories. Still might not be significant. \n",
    "recode_purpose = {\n",
    "    'Bills': 'general',\n",
    "    'Bills (Auto)': 'transportation',\n",
    "    'Bills (General)': 'general',\n",
    "    'Bills (Home / Utilities)': 'housing',\n",
    "    'Bills (Medical)': 'medical',\n",
    "    'Car': 'transportation',\n",
    "    'Gifts / Leisure': 'general',\n",
    "    'Medical': 'medical',\n",
    "    'None': 'general',\n",
    "    'Other': 'general',\n",
    "    'Pay off loans / overdrawn acct': 'credit',\n",
    "    'Rent': 'housing',\n",
    "    'Rent / Mortgage': 'housing',\n",
    "    'School': 'education',\n",
    "    \"Won't say\": 'general'\n",
    "}\n",
    "\n",
    "data['expense_type'] = data['how_use_money'].apply(lambda x: recode_purpose.get(x))"
   ]
  },
  {
   "cell_type": "code",
   "execution_count": 16,
   "id": "a92ebfa9",
   "metadata": {},
   "outputs": [],
   "source": [
    "# Add to data dictionary\n",
    "data_dict = add_entry_to_dictionary(data, data_dict, 'expense_type', \n",
    "                                    eda_category = 'personal_finance',\n",
    "                                    categorical = 1)"
   ]
  },
  {
   "cell_type": "code",
   "execution_count": 17,
   "id": "fab0d039",
   "metadata": {},
   "outputs": [
    {
     "data": {
      "text/html": [
       "<div>\n",
       "<style scoped>\n",
       "    .dataframe tbody tr th:only-of-type {\n",
       "        vertical-align: middle;\n",
       "    }\n",
       "\n",
       "    .dataframe tbody tr th {\n",
       "        vertical-align: top;\n",
       "    }\n",
       "\n",
       "    .dataframe thead tr th {\n",
       "        text-align: left;\n",
       "    }\n",
       "\n",
       "    .dataframe thead tr:last-of-type th {\n",
       "        text-align: right;\n",
       "    }\n",
       "</style>\n",
       "<table border=\"1\" class=\"dataframe\">\n",
       "  <thead>\n",
       "    <tr>\n",
       "      <th></th>\n",
       "      <th colspan=\"2\" halign=\"left\">bad</th>\n",
       "      <th>bad_rate</th>\n",
       "    </tr>\n",
       "    <tr>\n",
       "      <th></th>\n",
       "      <th>sum</th>\n",
       "      <th>count</th>\n",
       "      <th></th>\n",
       "    </tr>\n",
       "    <tr>\n",
       "      <th>expense_type</th>\n",
       "      <th></th>\n",
       "      <th></th>\n",
       "      <th></th>\n",
       "    </tr>\n",
       "  </thead>\n",
       "  <tbody>\n",
       "    <tr>\n",
       "      <th>credit</th>\n",
       "      <td>2.0</td>\n",
       "      <td>11</td>\n",
       "      <td>0.181818</td>\n",
       "    </tr>\n",
       "    <tr>\n",
       "      <th>education</th>\n",
       "      <td>2.0</td>\n",
       "      <td>5</td>\n",
       "      <td>0.400000</td>\n",
       "    </tr>\n",
       "    <tr>\n",
       "      <th>housing</th>\n",
       "      <td>12.0</td>\n",
       "      <td>25</td>\n",
       "      <td>0.480000</td>\n",
       "    </tr>\n",
       "    <tr>\n",
       "      <th>medical</th>\n",
       "      <td>21.0</td>\n",
       "      <td>41</td>\n",
       "      <td>0.512195</td>\n",
       "    </tr>\n",
       "    <tr>\n",
       "      <th>general</th>\n",
       "      <td>271.0</td>\n",
       "      <td>490</td>\n",
       "      <td>0.553061</td>\n",
       "    </tr>\n",
       "    <tr>\n",
       "      <th>transportation</th>\n",
       "      <td>45.0</td>\n",
       "      <td>78</td>\n",
       "      <td>0.576923</td>\n",
       "    </tr>\n",
       "  </tbody>\n",
       "</table>\n",
       "</div>"
      ],
      "text/plain": [
       "                  bad        bad_rate\n",
       "                  sum count          \n",
       "expense_type                         \n",
       "credit            2.0    11  0.181818\n",
       "education         2.0     5  0.400000\n",
       "housing          12.0    25  0.480000\n",
       "medical          21.0    41  0.512195\n",
       "general         271.0   490  0.553061\n",
       "transportation   45.0    78  0.576923"
      ]
     },
     "execution_count": 17,
     "metadata": {},
     "output_type": "execute_result"
    }
   ],
   "source": [
    "bad_rate_by_category(data, 'expense_type')"
   ]
  },
  {
   "cell_type": "markdown",
   "id": "26543727",
   "metadata": {},
   "source": [
    "## Duration Categories to Continuous"
   ]
  },
  {
   "cell_type": "markdown",
   "id": "510769e3",
   "metadata": {},
   "source": [
    "#### <span style='color:red'>Representing Ordinal Variables with Continuous Quantities</span>"
   ]
  },
  {
   "cell_type": "markdown",
   "id": "cd559282",
   "metadata": {},
   "source": [
    "Ordinal variables are variables whose values can be ranked and ordered, but cannot be represented by a continuous quantity. For example, runners in a race can be ranked by order of first finish without providing the exact time of finish. This would tell you the relative ranking of runners, but nothing about the size of the differences between individual runners. \n",
    "\n",
    "Standard classification models do not often support ordinal categories. Instead of recognizing the ranked nature of the values, they assume each value is a nominal category that is distinct from and incomparable to other categories. This eliminates valuable information that can be used in the prediction process. \n",
    "\n",
    "To more accurately represent our data, I have generated continuous variables to represent ordinal categories. The continuous value assigned to each ordinal category is equal to the midpoint of that category. The new variables are then used during the modeling process as continuous variables, such that the distance between values is now meaningful."
   ]
  },
  {
   "cell_type": "code",
   "execution_count": 18,
   "id": "9f8773b3",
   "metadata": {},
   "outputs": [],
   "source": [
    "# Construct numerical alternative to categorical durations\n",
    "duration_vars = ['email_duration', \n",
    "                 'residence_duration', \n",
    "                 'bank_account_duration']\n",
    "\n",
    "duration_decoder = {\n",
    "    '3 months or less': 1.5,\n",
    "    '6 months or less': 3,\n",
    "    '4-12 months': 8,\n",
    "    '7-12 months': 9.5,\n",
    "    '1-2 years': 18,\n",
    "    '1 year or more': 36,\n",
    "    '3+ years': 72\n",
    "}\n",
    "\n",
    "for var in duration_vars:\n",
    "    new_varname = var + '_months'\n",
    "    data[new_varname] = data[var].apply(lambda x: duration_decoder.get(x))"
   ]
  },
  {
   "cell_type": "code",
   "execution_count": 19,
   "id": "7cc688ab",
   "metadata": {},
   "outputs": [],
   "source": [
    "# Dynamically add entries to data dictionary\n",
    "new_duration_vars = ['email_duration_months',\n",
    "                     'residence_duration_months',\n",
    "                     'bank_account_duration_months']\n",
    "\n",
    "for var_name in new_duration_vars:\n",
    "    # Function from utils.py\n",
    "    data_dict = add_entry_to_dictionary(data, data_dict, var_name, \n",
    "                                eda_category = 'other_info',\n",
    "                                categorical = 0)"
   ]
  },
  {
   "cell_type": "code",
   "execution_count": 20,
   "id": "1c7947a6",
   "metadata": {},
   "outputs": [
    {
     "data": {
      "text/html": [
       "<div>\n",
       "<style scoped>\n",
       "    .dataframe tbody tr th:only-of-type {\n",
       "        vertical-align: middle;\n",
       "    }\n",
       "\n",
       "    .dataframe tbody tr th {\n",
       "        vertical-align: top;\n",
       "    }\n",
       "\n",
       "    .dataframe thead tr th {\n",
       "        text-align: left;\n",
       "    }\n",
       "\n",
       "    .dataframe thead tr:last-of-type th {\n",
       "        text-align: right;\n",
       "    }\n",
       "</style>\n",
       "<table border=\"1\" class=\"dataframe\">\n",
       "  <thead>\n",
       "    <tr>\n",
       "      <th></th>\n",
       "      <th colspan=\"2\" halign=\"left\">bad</th>\n",
       "      <th>bad_rate</th>\n",
       "    </tr>\n",
       "    <tr>\n",
       "      <th></th>\n",
       "      <th>sum</th>\n",
       "      <th>count</th>\n",
       "      <th></th>\n",
       "    </tr>\n",
       "    <tr>\n",
       "      <th>bank_account_duration_months</th>\n",
       "      <th></th>\n",
       "      <th></th>\n",
       "      <th></th>\n",
       "    </tr>\n",
       "  </thead>\n",
       "  <tbody>\n",
       "    <tr>\n",
       "      <th>9.5</th>\n",
       "      <td>28</td>\n",
       "      <td>57</td>\n",
       "      <td>0.491228</td>\n",
       "    </tr>\n",
       "    <tr>\n",
       "      <th>72.0</th>\n",
       "      <td>162</td>\n",
       "      <td>328</td>\n",
       "      <td>0.493902</td>\n",
       "    </tr>\n",
       "    <tr>\n",
       "      <th>18.0</th>\n",
       "      <td>77</td>\n",
       "      <td>132</td>\n",
       "      <td>0.583333</td>\n",
       "    </tr>\n",
       "    <tr>\n",
       "      <th>3.0</th>\n",
       "      <td>85</td>\n",
       "      <td>132</td>\n",
       "      <td>0.643939</td>\n",
       "    </tr>\n",
       "  </tbody>\n",
       "</table>\n",
       "</div>"
      ],
      "text/plain": [
       "                              bad        bad_rate\n",
       "                              sum count          \n",
       "bank_account_duration_months                     \n",
       "9.5                            28    57  0.491228\n",
       "72.0                          162   328  0.493902\n",
       "18.0                           77   132  0.583333\n",
       "3.0                            85   132  0.643939"
      ]
     },
     "execution_count": 20,
     "metadata": {},
     "output_type": "execute_result"
    }
   ],
   "source": [
    "bad_rate_by_category(data, 'bank_account_duration_months')"
   ]
  },
  {
   "cell_type": "markdown",
   "id": "12836551",
   "metadata": {},
   "source": [
    "## Payment Frequency Recoding"
   ]
  },
  {
   "cell_type": "markdown",
   "id": "b24bf908",
   "metadata": {},
   "source": [
    "#### <span style='color:red'>Representing Ordinal Variables with Continuous Quantities</span>"
   ]
  },
  {
   "cell_type": "markdown",
   "id": "76af4948",
   "metadata": {},
   "source": [
    "Question: Does a semi-monthly payment frequency mean once every two months?"
   ]
  },
  {
   "cell_type": "code",
   "execution_count": 21,
   "id": "0e1f3481",
   "metadata": {},
   "outputs": [],
   "source": [
    "payment_frequency_decoder = {\n",
    "    'Weekly': 4,\n",
    "    'Bi-weekly': 2, \n",
    "    'Monthly': 1, \n",
    "    'Semi-monthly': 2,\n",
    "}\n",
    "\n",
    "data['payment_frequency_per_month'] = \\\n",
    "    data['payment_frequency'].apply(lambda x: payment_frequency_decoder.get(x))"
   ]
  },
  {
   "cell_type": "code",
   "execution_count": 22,
   "id": "3444dcbe",
   "metadata": {},
   "outputs": [],
   "source": [
    "# Dynamically add entries to data dictionary\n",
    "data_dict = add_entry_to_dictionary(data, data_dict, \n",
    "                                    'payment_frequency_per_month', \n",
    "                                    eda_category = 'personal_finance',\n",
    "                                    categorical = 0)"
   ]
  },
  {
   "cell_type": "code",
   "execution_count": 23,
   "id": "31633e7e",
   "metadata": {},
   "outputs": [
    {
     "data": {
      "text/html": [
       "<div>\n",
       "<style scoped>\n",
       "    .dataframe tbody tr th:only-of-type {\n",
       "        vertical-align: middle;\n",
       "    }\n",
       "\n",
       "    .dataframe tbody tr th {\n",
       "        vertical-align: top;\n",
       "    }\n",
       "\n",
       "    .dataframe thead tr th {\n",
       "        text-align: left;\n",
       "    }\n",
       "\n",
       "    .dataframe thead tr:last-of-type th {\n",
       "        text-align: right;\n",
       "    }\n",
       "</style>\n",
       "<table border=\"1\" class=\"dataframe\">\n",
       "  <thead>\n",
       "    <tr>\n",
       "      <th></th>\n",
       "      <th colspan=\"2\" halign=\"left\">bad</th>\n",
       "      <th>bad_rate</th>\n",
       "    </tr>\n",
       "    <tr>\n",
       "      <th></th>\n",
       "      <th>sum</th>\n",
       "      <th>count</th>\n",
       "      <th></th>\n",
       "    </tr>\n",
       "    <tr>\n",
       "      <th>payment_frequency_per_month</th>\n",
       "      <th></th>\n",
       "      <th></th>\n",
       "      <th></th>\n",
       "    </tr>\n",
       "  </thead>\n",
       "  <tbody>\n",
       "    <tr>\n",
       "      <th>1</th>\n",
       "      <td>76</td>\n",
       "      <td>176</td>\n",
       "      <td>0.431818</td>\n",
       "    </tr>\n",
       "    <tr>\n",
       "      <th>2</th>\n",
       "      <td>255</td>\n",
       "      <td>446</td>\n",
       "      <td>0.571749</td>\n",
       "    </tr>\n",
       "    <tr>\n",
       "      <th>4</th>\n",
       "      <td>22</td>\n",
       "      <td>28</td>\n",
       "      <td>0.785714</td>\n",
       "    </tr>\n",
       "  </tbody>\n",
       "</table>\n",
       "</div>"
      ],
      "text/plain": [
       "                             bad        bad_rate\n",
       "                             sum count          \n",
       "payment_frequency_per_month                     \n",
       "1                             76   176  0.431818\n",
       "2                            255   446  0.571749\n",
       "4                             22    28  0.785714"
      ]
     },
     "execution_count": 23,
     "metadata": {},
     "output_type": "execute_result"
    }
   ],
   "source": [
    "bad_rate_by_category(data, 'payment_frequency_per_month')"
   ]
  },
  {
   "cell_type": "markdown",
   "id": "ebe0bb2e",
   "metadata": {},
   "source": [
    "## Missing Data Imputation"
   ]
  },
  {
   "cell_type": "code",
   "execution_count": 24,
   "id": "98aff771",
   "metadata": {},
   "outputs": [
    {
     "name": "stdout",
     "output_type": "stream",
     "text": [
      "Strings of 'None' found in bank_account_duration\n",
      "Strings of 'None' found in other_phone_type\n",
      "Strings of 'None' found in how_use_money\n",
      "Successfully replaced 'None' strings with np.NaN\n"
     ]
    }
   ],
   "source": [
    "# Data Validation: Am I missing the missing values?\n",
    "# It looks like there's missing data that .count() is not catching. \n",
    "\n",
    "# This returns no results! Doesn't make sense. \n",
    "for col in data.columns:\n",
    "    if None in list(data[col]):\n",
    "        print(col)\n",
    "\n",
    "# Got it! Very tricky, nicely done\n",
    "# 'None' is present as a string\n",
    "for col in data.columns:\n",
    "    if 'None' in list(data[col]):\n",
    "        print(f\"Strings of 'None' found in {col}\")\n",
    "        \n",
    "# Replacing 'None' strings with np.NaN\n",
    "data = data.replace('None', np.NaN)\n",
    "\n",
    "# Verifying deletion of 'None' strings\n",
    "successfully_replaced = True\n",
    "for col in data.columns:\n",
    "    if 'None' in list(data[col]):\n",
    "        print(\"Failed to replace 'None' strings!\")\n",
    "        successfully_replaced = False\n",
    "    \n",
    "if successfully_replaced == True:\n",
    "    print(\"Successfully replaced 'None' strings with np.NaN\")"
   ]
  },
  {
   "cell_type": "code",
   "execution_count": 25,
   "id": "2cacec40",
   "metadata": {},
   "outputs": [
    {
     "data": {
      "text/html": [
       "<div>\n",
       "<style scoped>\n",
       "    .dataframe tbody tr th:only-of-type {\n",
       "        vertical-align: middle;\n",
       "    }\n",
       "\n",
       "    .dataframe tbody tr th {\n",
       "        vertical-align: top;\n",
       "    }\n",
       "\n",
       "    .dataframe thead th {\n",
       "        text-align: right;\n",
       "    }\n",
       "</style>\n",
       "<table border=\"1\" class=\"dataframe\">\n",
       "  <thead>\n",
       "    <tr style=\"text-align: right;\">\n",
       "      <th></th>\n",
       "      <th>variable</th>\n",
       "      <th>count</th>\n",
       "    </tr>\n",
       "  </thead>\n",
       "  <tbody>\n",
       "    <tr>\n",
       "      <th>14</th>\n",
       "      <td>payment_amount_approved</td>\n",
       "      <td>628</td>\n",
       "    </tr>\n",
       "    <tr>\n",
       "      <th>20</th>\n",
       "      <td>bank_account_duration</td>\n",
       "      <td>649</td>\n",
       "    </tr>\n",
       "    <tr>\n",
       "      <th>23</th>\n",
       "      <td>other_phone_type</td>\n",
       "      <td>359</td>\n",
       "    </tr>\n",
       "    <tr>\n",
       "      <th>24</th>\n",
       "      <td>how_use_money</td>\n",
       "      <td>648</td>\n",
       "    </tr>\n",
       "    <tr>\n",
       "      <th>45</th>\n",
       "      <td>bank_account_duration_months</td>\n",
       "      <td>649</td>\n",
       "    </tr>\n",
       "  </tbody>\n",
       "</table>\n",
       "</div>"
      ],
      "text/plain": [
       "                        variable  count\n",
       "14       payment_amount_approved    628\n",
       "20         bank_account_duration    649\n",
       "23              other_phone_type    359\n",
       "24                 how_use_money    648\n",
       "45  bank_account_duration_months    649"
      ]
     },
     "execution_count": 25,
     "metadata": {},
     "output_type": "execute_result"
    }
   ],
   "source": [
    "# Which variables have missing values?\n",
    "count_df = pd.DataFrame(data.count().reset_index())\n",
    "count_df.rename({'index': 'variable',\n",
    "                  0: 'count'}, axis=1, inplace=True)\n",
    "\n",
    "count_df[count_df['count'] < data.shape[0]]"
   ]
  },
  {
   "cell_type": "markdown",
   "id": "ab90df11",
   "metadata": {},
   "source": [
    "Some of these variables are designed to have missing values:\n",
    "* other_phone_type is designed to be missing for people without another phone. \n",
    "* bank_id_supp_n30 is designed to be missing for low sample size banks. \n",
    "\n",
    "\n",
    "Others are lender decisions, not consumer characteristics (think outputs, not inputs):\n",
    "* payment_amount_approved is a term issued by the bank, not a predictive feature of the model. \n",
    "* how_use_money is about the category of loan, which does not necessarily reflect creditworthiness. I will impute the missing data here because we might use it in the model, though expense_type is probably more useful and already groups missing values into the 'general' category. \n",
    "\n",
    "\n",
    "But we do have two variables with a single clearly missing data point:\n",
    "* bank_account_duration has one missing data point that should be imputed. \n",
    "* By extension, bank_account_duration_months has a missing value as well. "
   ]
  },
  {
   "cell_type": "code",
   "execution_count": 26,
   "id": "8ed53bbb",
   "metadata": {},
   "outputs": [],
   "source": [
    "# Run SimpleImputer to fill bank_account_duration\n",
    "features = [\n",
    "    'raw_FICO_telecom',\n",
    "    'raw_FICO_retail',\n",
    "    'raw_FICO_bank_card',\n",
    "    'raw_FICO_money',\n",
    "    'raw_l2c_score',\n",
    "    'monthly_income_amount',\n",
    "    'monthly_rent_amount',\n",
    "    'bank_account_direct_deposit',\n",
    "    'bank_account_duration', \n",
    "    'email_duration',\n",
    "    'residence_duration',\n",
    "    'residence_rent_or_own',\n",
    "    'home_phone_type',\n",
    "    'other_phone_type',\n",
    "    'how_use_money'\n",
    "]\n",
    "\n",
    "simple_imputer = SimpleImputer(strategy='most_frequent')\n",
    "data_array_1 = np.array(data['bank_account_duration'])\n",
    "data_array_1 = data_array_1.reshape(-1, 1)\n",
    "data['bank_account_duration'] = simple_imputer.fit_transform(data_array_1)"
   ]
  },
  {
   "cell_type": "code",
   "execution_count": 27,
   "id": "5b3f7a5d",
   "metadata": {},
   "outputs": [],
   "source": [
    "# Run KNN Imputer to fill bank_account_duration_months\n",
    "knn_imputer = KNNImputer(n_neighbors = 10, weights = 'uniform')\n",
    "data_array_2 = np.array(data['bank_account_duration_months'])\n",
    "data_array_2 = data_array_2.reshape(-1, 1)\n",
    "data['bank_account_duration_months'] = knn_imputer.fit_transform(data_array_2)"
   ]
  },
  {
   "cell_type": "code",
   "execution_count": 28,
   "id": "59b650dd",
   "metadata": {},
   "outputs": [
    {
     "data": {
      "text/plain": [
       "bank_account_duration           650\n",
       "bank_account_duration_months    650\n",
       "dtype: int64"
      ]
     },
     "execution_count": 28,
     "metadata": {},
     "output_type": "execute_result"
    }
   ],
   "source": [
    "# Show counts of newly imputed columns\n",
    "data[['bank_account_duration', 'bank_account_duration_months']].count()\n",
    "\n",
    "# TODO: Update coverage column in data dictionary"
   ]
  },
  {
   "cell_type": "markdown",
   "id": "09ea999e",
   "metadata": {},
   "source": [
    "## Standardization"
   ]
  },
  {
   "cell_type": "markdown",
   "id": "88c0e06d",
   "metadata": {},
   "source": [
    "Standardizing all continuous variables to a mean of 0 and standard deviation of 1. "
   ]
  },
  {
   "cell_type": "code",
   "execution_count": 29,
   "id": "e24b6057",
   "metadata": {},
   "outputs": [],
   "source": [
    "# Create a copy of the data\n",
    "data = data.copy()\n",
    "\n",
    "# Designate variables to be standardized\n",
    "standardize_categories = ['personal_finance', \n",
    "                          'credit_score', \n",
    "                          'other_info']\n",
    "\n",
    "# TODO: Address the FutureWarning\n",
    "standardize_cols = list(data_dict.loc[(data_dict['eda_category'].isin(standardize_categories)) & \n",
    "                                      (data_dict['categorical'] == 0), 'variable'].values)\n",
    "\n",
    "# Add or remove individual columns\n",
    "standardize_cols.remove('application_month_of_cycle')\n",
    "\n",
    "# Standardize them\n",
    "data[standardize_cols] = (data[standardize_cols] - data[standardize_cols].mean()) \\\n",
    "                                / data[standardize_cols].std()"
   ]
  },
  {
   "cell_type": "code",
   "execution_count": 30,
   "id": "1f94532a",
   "metadata": {},
   "outputs": [
    {
     "data": {
      "text/html": [
       "<div>\n",
       "<style scoped>\n",
       "    .dataframe tbody tr th:only-of-type {\n",
       "        vertical-align: middle;\n",
       "    }\n",
       "\n",
       "    .dataframe tbody tr th {\n",
       "        vertical-align: top;\n",
       "    }\n",
       "\n",
       "    .dataframe thead th {\n",
       "        text-align: right;\n",
       "    }\n",
       "</style>\n",
       "<table border=\"1\" class=\"dataframe\">\n",
       "  <thead>\n",
       "    <tr style=\"text-align: right;\">\n",
       "      <th></th>\n",
       "      <th>monthly_rent_amount</th>\n",
       "      <th>monthly_income_amount</th>\n",
       "      <th>raw_l2c_score</th>\n",
       "      <th>raw_FICO_telecom</th>\n",
       "      <th>raw_FICO_retail</th>\n",
       "      <th>raw_FICO_bank_card</th>\n",
       "      <th>raw_FICO_money</th>\n",
       "      <th>application_day_of_year</th>\n",
       "      <th>application_hour_of_day</th>\n",
       "      <th>rent_to_income_ratio</th>\n",
       "      <th>email_duration_months</th>\n",
       "      <th>residence_duration_months</th>\n",
       "      <th>bank_account_duration_months</th>\n",
       "      <th>payment_frequency_per_month</th>\n",
       "    </tr>\n",
       "  </thead>\n",
       "  <tbody>\n",
       "    <tr>\n",
       "      <th>count</th>\n",
       "      <td>650.0</td>\n",
       "      <td>650.0</td>\n",
       "      <td>650.0</td>\n",
       "      <td>650.0</td>\n",
       "      <td>650.0</td>\n",
       "      <td>650.0</td>\n",
       "      <td>650.0</td>\n",
       "      <td>650.0</td>\n",
       "      <td>650.0</td>\n",
       "      <td>650.0</td>\n",
       "      <td>650.0</td>\n",
       "      <td>650.0</td>\n",
       "      <td>650.0</td>\n",
       "      <td>650.0</td>\n",
       "    </tr>\n",
       "    <tr>\n",
       "      <th>mean</th>\n",
       "      <td>0.0</td>\n",
       "      <td>-0.0</td>\n",
       "      <td>-0.0</td>\n",
       "      <td>-0.0</td>\n",
       "      <td>0.0</td>\n",
       "      <td>-0.0</td>\n",
       "      <td>0.0</td>\n",
       "      <td>0.0</td>\n",
       "      <td>-0.0</td>\n",
       "      <td>0.0</td>\n",
       "      <td>-0.0</td>\n",
       "      <td>0.0</td>\n",
       "      <td>0.0</td>\n",
       "      <td>0.0</td>\n",
       "    </tr>\n",
       "    <tr>\n",
       "      <th>std</th>\n",
       "      <td>1.0</td>\n",
       "      <td>1.0</td>\n",
       "      <td>1.0</td>\n",
       "      <td>1.0</td>\n",
       "      <td>1.0</td>\n",
       "      <td>1.0</td>\n",
       "      <td>1.0</td>\n",
       "      <td>1.0</td>\n",
       "      <td>1.0</td>\n",
       "      <td>1.0</td>\n",
       "      <td>1.0</td>\n",
       "      <td>1.0</td>\n",
       "      <td>1.0</td>\n",
       "      <td>1.0</td>\n",
       "    </tr>\n",
       "  </tbody>\n",
       "</table>\n",
       "</div>"
      ],
      "text/plain": [
       "       monthly_rent_amount  monthly_income_amount  raw_l2c_score  \\\n",
       "count                650.0                  650.0          650.0   \n",
       "mean                   0.0                   -0.0           -0.0   \n",
       "std                    1.0                    1.0            1.0   \n",
       "\n",
       "       raw_FICO_telecom  raw_FICO_retail  raw_FICO_bank_card  raw_FICO_money  \\\n",
       "count             650.0            650.0               650.0           650.0   \n",
       "mean               -0.0              0.0                -0.0             0.0   \n",
       "std                 1.0              1.0                 1.0             1.0   \n",
       "\n",
       "       application_day_of_year  application_hour_of_day  rent_to_income_ratio  \\\n",
       "count                    650.0                    650.0                 650.0   \n",
       "mean                       0.0                     -0.0                   0.0   \n",
       "std                        1.0                      1.0                   1.0   \n",
       "\n",
       "       email_duration_months  residence_duration_months  \\\n",
       "count                  650.0                      650.0   \n",
       "mean                    -0.0                        0.0   \n",
       "std                      1.0                        1.0   \n",
       "\n",
       "       bank_account_duration_months  payment_frequency_per_month  \n",
       "count                         650.0                        650.0  \n",
       "mean                            0.0                          0.0  \n",
       "std                             1.0                          1.0  "
      ]
     },
     "execution_count": 30,
     "metadata": {},
     "output_type": "execute_result"
    }
   ],
   "source": [
    "# Show mean and standard deviation of standardized columns\n",
    "# Round off floating-point decimal errors\n",
    "\n",
    "data[standardize_cols].describe().round(2).head(3)"
   ]
  },
  {
   "cell_type": "markdown",
   "id": "bc3289d2",
   "metadata": {},
   "source": [
    "## One Hot Encoding"
   ]
  },
  {
   "cell_type": "code",
   "execution_count": 31,
   "id": "6efd596b",
   "metadata": {},
   "outputs": [],
   "source": [
    "# Designate variables for one-hot\n",
    "one_hot_categories = ['personal_finance', 'other_info']\n",
    "one_hot_cols = data_dict.loc[(data_dict['eda_category'].isin(one_hot_categories)) & \n",
    "                             (data_dict['categorical'] == 1), 'variable'].str.strip().values\n",
    "\n",
    "# Encode using pd.get_dummies()\n",
    "df_dummies = pd.get_dummies(data[one_hot_cols])\n",
    "new_columns = list(set(df_dummies.columns) - set(one_hot_cols))\n",
    "df_dummies = df_dummies[new_columns]\n",
    "\n",
    "# Eliminate categoricals and concatenate dummies\n",
    "data = data.drop(one_hot_cols, axis=1)\n",
    "data = pd.concat([data, df_dummies], axis=1)"
   ]
  },
  {
   "cell_type": "code",
   "execution_count": 32,
   "id": "6efd8907",
   "metadata": {},
   "outputs": [
    {
     "name": "stdout",
     "output_type": "stream",
     "text": [
      "Number of features after one-hot encoding: 79\n"
     ]
    }
   ],
   "source": [
    "print(f\"Number of features after one-hot encoding: {len(data.columns)}\")"
   ]
  },
  {
   "cell_type": "code",
   "execution_count": 33,
   "id": "ef736636",
   "metadata": {},
   "outputs": [],
   "source": [
    "# Add dummies to data_dictionary\n",
    "def get_eda_category(data_dict, dummy_name):\n",
    "    \"\"\"\n",
    "    For a binary variable generated with pd.get_dummies(), finds\n",
    "    the eda_category of the underlying categorical variable. \n",
    "    \n",
    "    Returns: eda_category\n",
    "    \"\"\"\n",
    "    var_name = dummy_name[:-(len(dummy_name.split('_')[-1]) + 1)]\n",
    "    eda_category = data_dict.loc[data_dict['variable']==var_name, 'eda_category'].values\n",
    "    \n",
    "    return eda_category"
   ]
  },
  {
   "cell_type": "code",
   "execution_count": 34,
   "id": "57d1e0b0",
   "metadata": {},
   "outputs": [],
   "source": [
    "# Generate data dictionary entry for every new column\n",
    "for dummy_name in new_columns:\n",
    "    # Dynamically determine eda_category through data dictionary\n",
    "    eda_category = get_eda_category(data_dict, dummy_name)[0]\n",
    "    \n",
    "    # Clean dummy names of stray characters and whitespace\n",
    "    clean_dummy_name = clean_name(dummy_name)\n",
    "    data = data.rename({dummy_name: clean_dummy_name}, axis=1)\n",
    "    \n",
    "    # Add newly cleaned entry to the data dictionary\n",
    "    data_dict = add_entry_to_dictionary(data, data_dict, \n",
    "                                        clean_dummy_name, \n",
    "                                        eda_category = eda_category,\n",
    "                                        categorical = -1)"
   ]
  },
  {
   "cell_type": "code",
   "execution_count": 35,
   "id": "69bad7eb",
   "metadata": {},
   "outputs": [],
   "source": [
    "# Eliminate data dictionary entries for dropped categoricals\n",
    "data_dict = data_dict[~data_dict['variable'].isin(one_hot_cols)]\n",
    "data_dict = data_dict.reset_index(drop=True)"
   ]
  },
  {
   "cell_type": "code",
   "execution_count": 36,
   "id": "c7dd2a2b",
   "metadata": {},
   "outputs": [
    {
     "name": "stdout",
     "output_type": "stream",
     "text": [
      "Data dictionary has 79 variables.\n"
     ]
    }
   ],
   "source": [
    "print(f\"Data dictionary has {data_dict.shape[0]} variables.\")"
   ]
  },
  {
   "cell_type": "markdown",
   "id": "8b92bfdc",
   "metadata": {},
   "source": [
    "## Export Data"
   ]
  },
  {
   "cell_type": "code",
   "execution_count": 37,
   "id": "ce28bae6",
   "metadata": {},
   "outputs": [],
   "source": [
    "data.to_pickle('output_data/01_data.pkl')\n",
    "data_dict.to_pickle('output_data/01_data_dict.pkl')"
   ]
  }
 ],
 "metadata": {
  "kernelspec": {
   "display_name": "Python 3",
   "language": "python",
   "name": "python3"
  },
  "language_info": {
   "codemirror_mode": {
    "name": "ipython",
    "version": 3
   },
   "file_extension": ".py",
   "mimetype": "text/x-python",
   "name": "python",
   "nbconvert_exporter": "python",
   "pygments_lexer": "ipython3",
   "version": "3.8.8"
  }
 },
 "nbformat": 4,
 "nbformat_minor": 5
}
