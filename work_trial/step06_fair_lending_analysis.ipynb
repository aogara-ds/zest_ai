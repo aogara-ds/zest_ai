{
 "cells": [
  {
   "cell_type": "markdown",
   "id": "a7e4dec7",
   "metadata": {},
   "source": [
    "# Introduction"
   ]
  },
  {
   "cell_type": "markdown",
   "id": "b69245aa",
   "metadata": {},
   "source": [
    "With more time, I would implement the XGBoost fair lending regularizer proposed by [this paper](https://arxiv.org/pdf/2009.01442.pdf). Authors successfully reduce the approval rate gap between protected groups by 50% or more for several different datasets. "
   ]
  },
  {
   "cell_type": "code",
   "execution_count": 1,
   "id": "bbe95493",
   "metadata": {},
   "outputs": [],
   "source": [
    "import numpy as np\n",
    "import pandas as pd\n",
    "import scipy.stats\n",
    "\n",
    "pd.set_option('display.max_rows', 200)\n",
    "pd.set_option('display.max_columns', 50)"
   ]
  },
  {
   "cell_type": "code",
   "execution_count": 2,
   "id": "b5ed0708",
   "metadata": {},
   "outputs": [],
   "source": [
    "# Import data and data dictionary\n",
    "data = pd.read_pickle('output_data/01_data.pkl')\n",
    "data_dict = pd.read_pickle('output_data/01_data_dict.pkl')"
   ]
  },
  {
   "cell_type": "code",
   "execution_count": 5,
   "id": "62ed1512",
   "metadata": {},
   "outputs": [],
   "source": [
    "fair_lending_data = data.copy()"
   ]
  },
  {
   "cell_type": "markdown",
   "id": "5333110a",
   "metadata": {},
   "source": [
    "## Extracting Surnames"
   ]
  },
  {
   "cell_type": "markdown",
   "id": "ecaa3247",
   "metadata": {},
   "source": [
    "One variable we have that offers tremendous insight into borrower race is Surname. If you know somebody's last name, you can link it to the Census Bureau's tabulation of racial demographics by surname for the 1000 most popular in the US. But if you want surname, you need to extract it from email."
   ]
  },
  {
   "cell_type": "markdown",
   "id": "f5a2c5a2",
   "metadata": {},
   "source": [
    "#### Method 1: Surname by Name Case in Email Address"
   ]
  },
  {
   "cell_type": "markdown",
   "id": "1c352f26",
   "metadata": {},
   "source": [
    "My first hypothesis is that the last name within an email address can be identified by the fact that it will be the third and last capital in the address. \n",
    "\n",
    "Let's count the capitals. There should always be three. "
   ]
  },
  {
   "cell_type": "code",
   "execution_count": 9,
   "id": "fd52c5f0",
   "metadata": {},
   "outputs": [],
   "source": [
    "# Function for counting capitals\n",
    "def count_capitals(x):\n",
    "    count = 0\n",
    "    for i in x:\n",
    "        if i.isupper():\n",
    "            count+=1\n",
    "            \n",
    "    return count"
   ]
  },
  {
   "cell_type": "code",
   "execution_count": 10,
   "id": "738d0573",
   "metadata": {},
   "outputs": [],
   "source": [
    "# Calculates new column of capitals\n",
    "fair_lending_data['capitals'] = fair_lending_data['email'].apply(lambda x: count_capitals(x))"
   ]
  },
  {
   "cell_type": "code",
   "execution_count": 16,
   "id": "c02b17ba",
   "metadata": {},
   "outputs": [
    {
     "name": "stdout",
     "output_type": "stream",
     "text": [
      "Addresses with more or less than three capital letters: 17\n"
     ]
    }
   ],
   "source": [
    "not_three_caps = fair_lending_data.loc[fair_lending_data['capitals']!=3, ['email', 'capitals']].shape[0]\n",
    "print(f\"Addresses with more or less than three capital letters: {not_three_caps}\")"
   ]
  },
  {
   "cell_type": "code",
   "execution_count": null,
   "id": "0c4fe035",
   "metadata": {},
   "outputs": [],
   "source": []
  },
  {
   "cell_type": "code",
   "execution_count": null,
   "id": "72f84b64",
   "metadata": {},
   "outputs": [],
   "source": []
  },
  {
   "cell_type": "code",
   "execution_count": null,
   "id": "53b5a15b",
   "metadata": {},
   "outputs": [],
   "source": []
  },
  {
   "cell_type": "code",
   "execution_count": null,
   "id": "e4ad23ea",
   "metadata": {},
   "outputs": [],
   "source": []
  },
  {
   "cell_type": "code",
   "execution_count": null,
   "id": "799a3cea",
   "metadata": {},
   "outputs": [],
   "source": [
    "## Age and Length of Credit History\n",
    "## Also analyze duration of email, bank acct, and residence\n"
   ]
  },
  {
   "cell_type": "code",
   "execution_count": null,
   "id": "9b518756",
   "metadata": {},
   "outputs": [],
   "source": []
  },
  {
   "cell_type": "code",
   "execution_count": null,
   "id": "10ca643a",
   "metadata": {},
   "outputs": [],
   "source": []
  },
  {
   "cell_type": "code",
   "execution_count": null,
   "id": "c719477c",
   "metadata": {},
   "outputs": [],
   "source": []
  }
 ],
 "metadata": {
  "kernelspec": {
   "display_name": "Python 3",
   "language": "python",
   "name": "python3"
  },
  "language_info": {
   "codemirror_mode": {
    "name": "ipython",
    "version": 3
   },
   "file_extension": ".py",
   "mimetype": "text/x-python",
   "name": "python",
   "nbconvert_exporter": "python",
   "pygments_lexer": "ipython3",
   "version": "3.8.8"
  }
 },
 "nbformat": 4,
 "nbformat_minor": 5
}
