{
 "cells": [
  {
   "cell_type": "markdown",
   "id": "2f177748",
   "metadata": {},
   "source": [
    "# Did Not Complete!"
   ]
  },
  {
   "cell_type": "markdown",
   "id": "44bd1d0a",
   "metadata": {},
   "source": [
    "Using one model for a modeling project is never a good idea, especially when it's a complex model like XGBoost. You want to have straightforward and easily interpretable models established as a baseline against which to compare your fancy models which have (hopefully) better performance. \n",
    "\n",
    "With limited time to complete this work trial project, I skipped the logistic regression and went straight to XGBoost. But it's an important step in my process and I would always finish this before deploying or making recommendations to a client. Therefore, I've included this placeholder notebook to indicate the full plan. "
   ]
  }
 ],
 "metadata": {
  "kernelspec": {
   "display_name": "Python 3",
   "language": "python",
   "name": "python3"
  },
  "language_info": {
   "codemirror_mode": {
    "name": "ipython",
    "version": 3
   },
   "file_extension": ".py",
   "mimetype": "text/x-python",
   "name": "python",
   "nbconvert_exporter": "python",
   "pygments_lexer": "ipython3",
   "version": "3.8.8"
  }
 },
 "nbformat": 4,
 "nbformat_minor": 5
}
