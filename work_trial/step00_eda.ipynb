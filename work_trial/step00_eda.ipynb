{
 "cells": [
  {
   "cell_type": "markdown",
   "id": "82c39cd4",
   "metadata": {},
   "source": [
    "# Introduction"
   ]
  },
  {
   "cell_type": "markdown",
   "id": "f497f1ec",
   "metadata": {},
   "source": [
    "This notebook conducts an exploratory data analysis of the dataset provided for my work trial project. \n",
    "\n",
    "At the end of this notebook, we will have:\n",
    "\n",
    "* Imported both the customer application and the loan performance data\n",
    "* Merged the loan performance data into the application data, using assumptions explained below\n",
    "* Generated an .html report for each variable using Pandas Profiling\n",
    "* Constructed a dynamic data dictionary that will be carried through the project\n",
    "\n",
    "Merging the loan performance records with the customer application records posed several challenges. \n",
    "* First, the two datasets do not share a common key, leaving no natural way to merge the two. To address this problem, I built a customer_id in the loan performance table using the provided idLoan. Assumptions about the definition of customer_id are verified below. \n",
    "* Second, coverage is imperfect on both sides. 13 customers have no corresponding loan record, and 688 loans have no customer. I merge and keep only records that exist in both datasets, and then explore the implications of the failed merge. \n",
    "    * Importantly, loans that had no customer data are 46% less likely to be 'bad' loans than matched records. This indicates that the provided sample is not representative of the overall population, and that we might face challenges when generalizing out of sample. \n",
    "    * This adds to other concerns about the sampling strategy used to obtain this dataset. For example, this dataset only includes customers who were approved to receive a loan. Any and all rejected applications are hidden from view, making this dataset markedly different from the overall pool of applicants to which our algorithm will be asked to generalize. \n",
    "* Third, there appear to be some customers who have multiple loan records. I assume this is by design and conduct a 1:m merge.\n",
    "\n",
    "The Data Dictionary constructed in this notebook will be essential for automating the model pipeline going forwards. As currently constructed, the Data Dictionary is a DataFrame with a row for each variable reporting three pieces of information:\n",
    "* Data Type\n",
    "* Categorical Variable Flag\n",
    "* % Coverage\n",
    "\n",
    "This exploratory analysis paves the way for future analysis including feature engineering, dimensionality reduction, model construction, performance evaluation, and fair lending analysis. "
   ]
  },
  {
   "cell_type": "code",
   "execution_count": 1,
   "id": "f8efb33f",
   "metadata": {},
   "outputs": [],
   "source": [
    "import sys\n",
    "import numpy as np\n",
    "import pandas as pd\n",
    "import openpyxl\n",
    "from datetime import datetime\n",
    "from numpy import datetime64\n",
    "\n",
    "from utils import bad_rate_by_category\n",
    "\n",
    "pd.set_option('display.max_rows', 200)\n",
    "pd.set_option('display.max_columns', 50)"
   ]
  },
  {
   "cell_type": "markdown",
   "id": "ae4746b7",
   "metadata": {},
   "source": [
    "## Import Data"
   ]
  },
  {
   "cell_type": "code",
   "execution_count": 2,
   "id": "0f36d5a3",
   "metadata": {},
   "outputs": [
    {
     "name": "stderr",
     "output_type": "stream",
     "text": [
      "C:\\Users\\aidan\\anaconda3\\lib\\site-packages\\openpyxl\\worksheet\\_reader.py:312: UserWarning: Unknown extension is not supported and will be removed\n",
      "  warn(msg)\n"
     ]
    }
   ],
   "source": [
    "# Import data from provided Excel file\n",
    "\n",
    "application_data = pd.read_excel(io = 'input_data/Homework - Data Scientist.xlsx',\n",
    "                     sheet_name = 'Application Data',\n",
    "                     header = 0,\n",
    "                     engine='openpyxl')\n",
    "\n",
    "performance_data = pd.read_excel(io = 'input_data/Homework - Data Scientist.xlsx',\n",
    "                             sheet_name = 'Loan Performance',\n",
    "                             header = 0,\n",
    "                             engine='openpyxl')"
   ]
  },
  {
   "cell_type": "markdown",
   "id": "852b3384",
   "metadata": {},
   "source": [
    "Warning message caused by unknown extension to .xlsx file, such as filtering or conditional formatting. Rather than alter the provided file or suppress the warning, I will continue by using the data as it was imported. "
   ]
  },
  {
   "cell_type": "markdown",
   "id": "91266771",
   "metadata": {},
   "source": [
    "## Simple Data Exploration"
   ]
  },
  {
   "cell_type": "code",
   "execution_count": 3,
   "id": "94a8286a",
   "metadata": {},
   "outputs": [
    {
     "name": "stdout",
     "output_type": "stream",
     "text": [
      "customer_id                            object\n",
      "amount_requested                        int64\n",
      "birth_date                     datetime64[ns]\n",
      "status                                 object\n",
      "residence_rent_or_own                    bool\n",
      "monthly_rent_amount                     int64\n",
      "bank_account_direct_deposit              bool\n",
      "application_when               datetime64[ns]\n",
      "loan_duration                           int64\n",
      "payment_ach                              bool\n",
      "num_payments                            int64\n",
      "payment_amount                        float64\n",
      "amount_approved                         int64\n",
      "duration_approved                       int64\n",
      "payment_amount_approved               float64\n",
      "address_zip                             int64\n",
      "email                                  object\n",
      "bank_routing_number                     int64\n",
      "email_duration                         object\n",
      "residence_duration                     object\n",
      "bank_account_duration                  object\n",
      "payment_frequency                      object\n",
      "home_phone_type                        object\n",
      "other_phone_type                       object\n",
      "how_use_money                          object\n",
      "monthly_income_amount                   int64\n",
      "raw_l2c_score                           int64\n",
      "raw_FICO_telecom                        int64\n",
      "raw_FICO_retail                         int64\n",
      "raw_FICO_bank_card                      int64\n",
      "raw_FICO_money                          int64\n",
      "dtype: object\n"
     ]
    }
   ],
   "source": [
    "# Application Data columns and data types\n",
    "print(application_data.dtypes)"
   ]
  },
  {
   "cell_type": "code",
   "execution_count": 4,
   "id": "ff0590ab",
   "metadata": {},
   "outputs": [
    {
     "data": {
      "text/html": [
       "<div>\n",
       "<style scoped>\n",
       "    .dataframe tbody tr th:only-of-type {\n",
       "        vertical-align: middle;\n",
       "    }\n",
       "\n",
       "    .dataframe tbody tr th {\n",
       "        vertical-align: top;\n",
       "    }\n",
       "\n",
       "    .dataframe thead th {\n",
       "        text-align: right;\n",
       "    }\n",
       "</style>\n",
       "<table border=\"1\" class=\"dataframe\">\n",
       "  <thead>\n",
       "    <tr style=\"text-align: right;\">\n",
       "      <th></th>\n",
       "      <th>customer_id</th>\n",
       "      <th>amount_requested</th>\n",
       "      <th>birth_date</th>\n",
       "      <th>status</th>\n",
       "      <th>residence_rent_or_own</th>\n",
       "      <th>monthly_rent_amount</th>\n",
       "      <th>bank_account_direct_deposit</th>\n",
       "      <th>application_when</th>\n",
       "      <th>loan_duration</th>\n",
       "      <th>payment_ach</th>\n",
       "      <th>num_payments</th>\n",
       "      <th>payment_amount</th>\n",
       "      <th>amount_approved</th>\n",
       "      <th>duration_approved</th>\n",
       "      <th>payment_amount_approved</th>\n",
       "      <th>address_zip</th>\n",
       "      <th>email</th>\n",
       "      <th>bank_routing_number</th>\n",
       "      <th>email_duration</th>\n",
       "      <th>residence_duration</th>\n",
       "      <th>bank_account_duration</th>\n",
       "      <th>payment_frequency</th>\n",
       "      <th>home_phone_type</th>\n",
       "      <th>other_phone_type</th>\n",
       "      <th>how_use_money</th>\n",
       "      <th>monthly_income_amount</th>\n",
       "      <th>raw_l2c_score</th>\n",
       "      <th>raw_FICO_telecom</th>\n",
       "      <th>raw_FICO_retail</th>\n",
       "      <th>raw_FICO_bank_card</th>\n",
       "      <th>raw_FICO_money</th>\n",
       "    </tr>\n",
       "  </thead>\n",
       "  <tbody>\n",
       "    <tr>\n",
       "      <th>0</th>\n",
       "      <td>9ece67d6c5</td>\n",
       "      <td>500</td>\n",
       "      <td>1991-08-21</td>\n",
       "      <td>Approved</td>\n",
       "      <td>True</td>\n",
       "      <td>0</td>\n",
       "      <td>True</td>\n",
       "      <td>2010-10-16 14:06:05</td>\n",
       "      <td>3</td>\n",
       "      <td>True</td>\n",
       "      <td>6</td>\n",
       "      <td>138.48</td>\n",
       "      <td>500</td>\n",
       "      <td>3</td>\n",
       "      <td>NaN</td>\n",
       "      <td>84118</td>\n",
       "      <td>WanitaGVinyard@gmail.com</td>\n",
       "      <td>124001545</td>\n",
       "      <td>1 year or more</td>\n",
       "      <td>6 months or less</td>\n",
       "      <td>6 months or less</td>\n",
       "      <td>Semi-monthly</td>\n",
       "      <td>Mobile</td>\n",
       "      <td>NaN</td>\n",
       "      <td>Other</td>\n",
       "      <td>1560</td>\n",
       "      <td>614</td>\n",
       "      <td>574</td>\n",
       "      <td>600</td>\n",
       "      <td>656</td>\n",
       "      <td>561</td>\n",
       "    </tr>\n",
       "    <tr>\n",
       "      <th>1</th>\n",
       "      <td>5c2c402094</td>\n",
       "      <td>500</td>\n",
       "      <td>1990-07-24</td>\n",
       "      <td>Approved</td>\n",
       "      <td>True</td>\n",
       "      <td>0</td>\n",
       "      <td>False</td>\n",
       "      <td>2010-10-17 13:01:53</td>\n",
       "      <td>6</td>\n",
       "      <td>True</td>\n",
       "      <td>13</td>\n",
       "      <td>77.39</td>\n",
       "      <td>500</td>\n",
       "      <td>6</td>\n",
       "      <td>NaN</td>\n",
       "      <td>84062</td>\n",
       "      <td>NatashaTTucker@yahoo.com</td>\n",
       "      <td>124000054</td>\n",
       "      <td>1 year or more</td>\n",
       "      <td>3+ years</td>\n",
       "      <td>3+ years</td>\n",
       "      <td>Bi-weekly</td>\n",
       "      <td>Mobile</td>\n",
       "      <td>NaN</td>\n",
       "      <td>Other</td>\n",
       "      <td>900</td>\n",
       "      <td>708</td>\n",
       "      <td>501</td>\n",
       "      <td>550</td>\n",
       "      <td>651</td>\n",
       "      <td>563</td>\n",
       "    </tr>\n",
       "    <tr>\n",
       "      <th>2</th>\n",
       "      <td>e6254cad30</td>\n",
       "      <td>400</td>\n",
       "      <td>1980-09-13</td>\n",
       "      <td>Approved</td>\n",
       "      <td>True</td>\n",
       "      <td>620</td>\n",
       "      <td>True</td>\n",
       "      <td>2010-10-17 19:52:34</td>\n",
       "      <td>6</td>\n",
       "      <td>True</td>\n",
       "      <td>13</td>\n",
       "      <td>61.91</td>\n",
       "      <td>400</td>\n",
       "      <td>6</td>\n",
       "      <td>NaN</td>\n",
       "      <td>84119</td>\n",
       "      <td>AnneDCisneros@hotmail.com</td>\n",
       "      <td>124001545</td>\n",
       "      <td>1 year or more</td>\n",
       "      <td>7-12 months</td>\n",
       "      <td>1-2 years</td>\n",
       "      <td>Bi-weekly</td>\n",
       "      <td>Mobile</td>\n",
       "      <td>NaN</td>\n",
       "      <td>Other</td>\n",
       "      <td>1434</td>\n",
       "      <td>687</td>\n",
       "      <td>522</td>\n",
       "      <td>561</td>\n",
       "      <td>661</td>\n",
       "      <td>598</td>\n",
       "    </tr>\n",
       "    <tr>\n",
       "      <th>3</th>\n",
       "      <td>49fb42f51d</td>\n",
       "      <td>500</td>\n",
       "      <td>1976-09-10</td>\n",
       "      <td>Approved</td>\n",
       "      <td>False</td>\n",
       "      <td>785</td>\n",
       "      <td>False</td>\n",
       "      <td>2010-10-18 07:05:00</td>\n",
       "      <td>4</td>\n",
       "      <td>True</td>\n",
       "      <td>8</td>\n",
       "      <td>108.48</td>\n",
       "      <td>500</td>\n",
       "      <td>4</td>\n",
       "      <td>NaN</td>\n",
       "      <td>84405</td>\n",
       "      <td>CatalinaRRoderick@hotmail.com</td>\n",
       "      <td>124002971</td>\n",
       "      <td>1 year or more</td>\n",
       "      <td>3+ years</td>\n",
       "      <td>7-12 months</td>\n",
       "      <td>Bi-weekly</td>\n",
       "      <td>Mobile</td>\n",
       "      <td>NaN</td>\n",
       "      <td>Other</td>\n",
       "      <td>1600</td>\n",
       "      <td>616</td>\n",
       "      <td>560</td>\n",
       "      <td>552</td>\n",
       "      <td>634</td>\n",
       "      <td>591</td>\n",
       "    </tr>\n",
       "    <tr>\n",
       "      <th>4</th>\n",
       "      <td>195fbe5739</td>\n",
       "      <td>300</td>\n",
       "      <td>1979-12-01</td>\n",
       "      <td>Approved</td>\n",
       "      <td>True</td>\n",
       "      <td>700</td>\n",
       "      <td>True</td>\n",
       "      <td>2010-10-19 10:58:40</td>\n",
       "      <td>4</td>\n",
       "      <td>True</td>\n",
       "      <td>8</td>\n",
       "      <td>65.09</td>\n",
       "      <td>300</td>\n",
       "      <td>4</td>\n",
       "      <td>NaN</td>\n",
       "      <td>84404</td>\n",
       "      <td>PhillipMSinn@aol.com</td>\n",
       "      <td>124002971</td>\n",
       "      <td>1 year or more</td>\n",
       "      <td>3+ years</td>\n",
       "      <td>6 months or less</td>\n",
       "      <td>Bi-weekly</td>\n",
       "      <td>Mobile</td>\n",
       "      <td>Home</td>\n",
       "      <td>Other</td>\n",
       "      <td>1360</td>\n",
       "      <td>681</td>\n",
       "      <td>603</td>\n",
       "      <td>654</td>\n",
       "      <td>659</td>\n",
       "      <td>636</td>\n",
       "    </tr>\n",
       "  </tbody>\n",
       "</table>\n",
       "</div>"
      ],
      "text/plain": [
       "  customer_id  amount_requested birth_date    status  residence_rent_or_own  \\\n",
       "0  9ece67d6c5               500 1991-08-21  Approved                   True   \n",
       "1  5c2c402094               500 1990-07-24  Approved                   True   \n",
       "2  e6254cad30               400 1980-09-13  Approved                   True   \n",
       "3  49fb42f51d               500 1976-09-10  Approved                  False   \n",
       "4  195fbe5739               300 1979-12-01  Approved                   True   \n",
       "\n",
       "   monthly_rent_amount  bank_account_direct_deposit    application_when  \\\n",
       "0                    0                         True 2010-10-16 14:06:05   \n",
       "1                    0                        False 2010-10-17 13:01:53   \n",
       "2                  620                         True 2010-10-17 19:52:34   \n",
       "3                  785                        False 2010-10-18 07:05:00   \n",
       "4                  700                         True 2010-10-19 10:58:40   \n",
       "\n",
       "   loan_duration  payment_ach  num_payments  payment_amount  amount_approved  \\\n",
       "0              3         True             6          138.48              500   \n",
       "1              6         True            13           77.39              500   \n",
       "2              6         True            13           61.91              400   \n",
       "3              4         True             8          108.48              500   \n",
       "4              4         True             8           65.09              300   \n",
       "\n",
       "   duration_approved  payment_amount_approved  address_zip  \\\n",
       "0                  3                      NaN        84118   \n",
       "1                  6                      NaN        84062   \n",
       "2                  6                      NaN        84119   \n",
       "3                  4                      NaN        84405   \n",
       "4                  4                      NaN        84404   \n",
       "\n",
       "                           email  bank_routing_number  email_duration  \\\n",
       "0       WanitaGVinyard@gmail.com            124001545  1 year or more   \n",
       "1       NatashaTTucker@yahoo.com            124000054  1 year or more   \n",
       "2      AnneDCisneros@hotmail.com            124001545  1 year or more   \n",
       "3  CatalinaRRoderick@hotmail.com            124002971  1 year or more   \n",
       "4           PhillipMSinn@aol.com            124002971  1 year or more   \n",
       "\n",
       "  residence_duration bank_account_duration payment_frequency home_phone_type  \\\n",
       "0   6 months or less      6 months or less      Semi-monthly          Mobile   \n",
       "1           3+ years              3+ years         Bi-weekly          Mobile   \n",
       "2        7-12 months             1-2 years         Bi-weekly          Mobile   \n",
       "3           3+ years           7-12 months         Bi-weekly          Mobile   \n",
       "4           3+ years      6 months or less         Bi-weekly          Mobile   \n",
       "\n",
       "  other_phone_type how_use_money  monthly_income_amount  raw_l2c_score  \\\n",
       "0              NaN         Other                   1560            614   \n",
       "1              NaN         Other                    900            708   \n",
       "2              NaN         Other                   1434            687   \n",
       "3              NaN         Other                   1600            616   \n",
       "4             Home         Other                   1360            681   \n",
       "\n",
       "   raw_FICO_telecom  raw_FICO_retail  raw_FICO_bank_card  raw_FICO_money  \n",
       "0               574              600                 656             561  \n",
       "1               501              550                 651             563  \n",
       "2               522              561                 661             598  \n",
       "3               560              552                 634             591  \n",
       "4               603              654                 659             636  "
      ]
     },
     "execution_count": 4,
     "metadata": {},
     "output_type": "execute_result"
    }
   ],
   "source": [
    "# Application Data itself\n",
    "application_data.head()"
   ]
  },
  {
   "cell_type": "code",
   "execution_count": 5,
   "id": "2fc946d3",
   "metadata": {},
   "outputs": [
    {
     "name": "stdout",
     "output_type": "stream",
     "text": [
      "idLoan     object\n",
      "flgGood    object\n",
      "dtype: object\n"
     ]
    }
   ],
   "source": [
    "# Performance Data columns and data types\n",
    "print(performance_data.dtypes)"
   ]
  },
  {
   "cell_type": "code",
   "execution_count": 6,
   "id": "39dccb0a",
   "metadata": {},
   "outputs": [
    {
     "data": {
      "text/html": [
       "<div>\n",
       "<style scoped>\n",
       "    .dataframe tbody tr th:only-of-type {\n",
       "        vertical-align: middle;\n",
       "    }\n",
       "\n",
       "    .dataframe tbody tr th {\n",
       "        vertical-align: top;\n",
       "    }\n",
       "\n",
       "    .dataframe thead th {\n",
       "        text-align: right;\n",
       "    }\n",
       "</style>\n",
       "<table border=\"1\" class=\"dataframe\">\n",
       "  <thead>\n",
       "    <tr style=\"text-align: right;\">\n",
       "      <th></th>\n",
       "      <th>idLoan</th>\n",
       "      <th>flgGood</th>\n",
       "    </tr>\n",
       "  </thead>\n",
       "  <tbody>\n",
       "    <tr>\n",
       "      <th>0</th>\n",
       "      <td>0DBA6B011D-01</td>\n",
       "      <td>Bad</td>\n",
       "    </tr>\n",
       "    <tr>\n",
       "      <th>1</th>\n",
       "      <td>96ACBBA7ED-01</td>\n",
       "      <td>Bad</td>\n",
       "    </tr>\n",
       "    <tr>\n",
       "      <th>2</th>\n",
       "      <td>289421D82A-01</td>\n",
       "      <td>Bad</td>\n",
       "    </tr>\n",
       "    <tr>\n",
       "      <th>3</th>\n",
       "      <td>9ECE67D6C5-01</td>\n",
       "      <td>Good</td>\n",
       "    </tr>\n",
       "    <tr>\n",
       "      <th>4</th>\n",
       "      <td>5C2C402094-01</td>\n",
       "      <td>Bad</td>\n",
       "    </tr>\n",
       "  </tbody>\n",
       "</table>\n",
       "</div>"
      ],
      "text/plain": [
       "          idLoan flgGood\n",
       "0  0DBA6B011D-01     Bad\n",
       "1  96ACBBA7ED-01     Bad\n",
       "2  289421D82A-01     Bad\n",
       "3  9ECE67D6C5-01    Good\n",
       "4  5C2C402094-01     Bad"
      ]
     },
     "execution_count": 6,
     "metadata": {},
     "output_type": "execute_result"
    }
   ],
   "source": [
    "# Performance Data itself\n",
    "performance_data.head()"
   ]
  },
  {
   "cell_type": "markdown",
   "id": "6579d1d3",
   "metadata": {},
   "source": [
    "## One Hot Encoding for Performance"
   ]
  },
  {
   "cell_type": "code",
   "execution_count": 7,
   "id": "3a0494d9",
   "metadata": {},
   "outputs": [],
   "source": [
    "# Generate columns 'bad' and 'good' with dummies for 'flgGood'\n",
    "performance_data[['bad', 'good']] = pd.get_dummies(performance_data['flgGood'])"
   ]
  },
  {
   "cell_type": "markdown",
   "id": "ee79274e",
   "metadata": {},
   "source": [
    "## Merge Application Data and Performance Data"
   ]
  },
  {
   "cell_type": "markdown",
   "id": "94827a0b",
   "metadata": {},
   "source": [
    "Two questions arise when merging the data. \n",
    "\n",
    "First, the datasets do not share a key for merging on. The closest thing to a common key is the 'customer_id' in application_data paired to the 'idLoan' in performance data. But 'idLoan's are different from customer_ids in a key way: they have appended to the end of the customer_id an additional '-01' or '-02'. \n",
    "\n",
    "Presumably, each loan record refers to a loan held by a customer, and each customer can have one or more loans. We will want to train and test our model on all loans held by all students, conserving information and increasing the potential performance of the model. To that end, we validate these assumptions and construct a 'customer_id' in the performance data. \n",
    "\n",
    "Second, the 1:m relationship between application and performance data does not have 100% coverage on either side. We must show which data cannot be matched between the two sets, and consider the implications of that non-matching. \n",
    "\n",
    "The code below verifies this diagnosis and implements the recommended solution. "
   ]
  },
  {
   "cell_type": "code",
   "execution_count": 8,
   "id": "9c6809b5",
   "metadata": {},
   "outputs": [
    {
     "name": "stdout",
     "output_type": "stream",
     "text": [
      "Number of customers with multiple loans in the data: 16\n"
     ]
    }
   ],
   "source": [
    "# Generate customer_id in performance_data\n",
    "# Assumption: Customer ID is lowercase Loan ID without the last three chars\n",
    "performance_data['customer_id'] = performance_data['idLoan']\n",
    "performance_data['customer_id'] = performance_data['customer_id'].str.lower()\n",
    "performance_data['customer_id'] = performance_data['customer_id'].str.slice(start = 0, stop = -3)\n",
    "\n",
    "# How many customers have multiple loans in the data?\n",
    "repeat_customers = performance_data['customer_id'].duplicated().sum()\n",
    "print(f\"Number of customers with multiple loans in the data: {repeat_customers}\")"
   ]
  },
  {
   "cell_type": "code",
   "execution_count": 9,
   "id": "5215f7fb",
   "metadata": {},
   "outputs": [
    {
     "name": "stdout",
     "output_type": "stream",
     "text": [
      "Matched in both datasets: 634\n",
      "Unmatched from application dataset: 13\n",
      "Unmatched from performance dataset: 635\n",
      "\n",
      "Therefore, after merging, we expect 650 records.\n",
      "Merged data contains 650 records.\n"
     ]
    }
   ],
   "source": [
    "# Merge Coverage: How many observations can be merged?\n",
    "# Use Python set object to evaluate\n",
    "s1 = set(application_data['customer_id'])\n",
    "s2 = set(performance_data['customer_id'])\n",
    "s1.intersection(s2)\n",
    "\n",
    "match_both = s1.intersection(s2)\n",
    "match_application = s1 - s2\n",
    "match_performance = s2 - s1\n",
    "\n",
    "print(f\"Matched in both datasets: {len(match_both)}\")\n",
    "print(f\"Unmatched from application dataset: {len(match_application)}\")\n",
    "print(f\"Unmatched from performance dataset: {len(match_performance)}\")\n",
    "print()\n",
    "\n",
    "# TODO: Make one of those cool conversion funnel charts\n",
    "# Applications      Performance\n",
    "# 650               650 (Match)\n",
    "# 13                0 (No performance)\n",
    "# 0                 688 (No application)\n",
    "\n",
    "\n",
    "# Merge performance_data into application_data\n",
    "performance_subset = ['customer_id', 'idLoan', 'bad']\n",
    "\n",
    "data = application_data.merge(performance_data[performance_subset], \n",
    "                               how = 'inner', \n",
    "                               on = 'customer_id')\n",
    "\n",
    "print(f\"Therefore, after merging, we expect {len(match_both) + repeat_customers} records.\")\n",
    "print(f\"Merged data contains {data.shape[0]} records.\")"
   ]
  },
  {
   "cell_type": "markdown",
   "id": "bdc83ade",
   "metadata": {},
   "source": [
    "## Implications of Unmerged Data"
   ]
  },
  {
   "cell_type": "markdown",
   "id": "40833016",
   "metadata": {},
   "source": [
    "Loans which could be matched to customer applications have **more than twice as likely to be bad** as loans that went unmatched to a customer application. \n",
    "\n",
    "This indicates that our data is not randomly sampled from the overall population which would limit the model's out-of-sample generalized performance. It is possible that default rates will usually be lower on out-of-sample data because the only such data we have access to shows lower default rates. \n",
    "\n",
    "One crucial followup for this project would be determining the filtering criteria for our two data samples, assessing the potential impact on model performance, and possibly gather more data under different criteria. \n",
    "\n"
   ]
  },
  {
   "cell_type": "code",
   "execution_count": 10,
   "id": "a7357633",
   "metadata": {},
   "outputs": [
    {
     "data": {
      "text/html": [
       "<div>\n",
       "<style scoped>\n",
       "    .dataframe tbody tr th:only-of-type {\n",
       "        vertical-align: middle;\n",
       "    }\n",
       "\n",
       "    .dataframe tbody tr th {\n",
       "        vertical-align: top;\n",
       "    }\n",
       "\n",
       "    .dataframe thead tr th {\n",
       "        text-align: left;\n",
       "    }\n",
       "</style>\n",
       "<table border=\"1\" class=\"dataframe\">\n",
       "  <thead>\n",
       "    <tr>\n",
       "      <th></th>\n",
       "      <th>bad_rate</th>\n",
       "    </tr>\n",
       "    <tr>\n",
       "      <th></th>\n",
       "      <th></th>\n",
       "    </tr>\n",
       "  </thead>\n",
       "  <tbody>\n",
       "    <tr>\n",
       "      <th>No Applicant Matched</th>\n",
       "      <td>0.256693</td>\n",
       "    </tr>\n",
       "    <tr>\n",
       "      <th>Applicant Matched</th>\n",
       "      <td>0.543077</td>\n",
       "    </tr>\n",
       "  </tbody>\n",
       "</table>\n",
       "</div>"
      ],
      "text/plain": [
       "                      bad_rate\n",
       "                              \n",
       "No Applicant Matched  0.256693\n",
       "Applicant Matched     0.543077"
      ]
     },
     "execution_count": 10,
     "metadata": {},
     "output_type": "execute_result"
    }
   ],
   "source": [
    "# Analyzing the unmerged loan performance records\n",
    "performance_data = performance_data.merge(application_data['customer_id'],\n",
    "                                           how = 'left',\n",
    "                                           on = 'customer_id',\n",
    "                                           indicator = True)\n",
    "\n",
    "performance_gb = performance_data.groupby('_merge').agg({'bad': ['sum','count']})\n",
    "performance_gb = performance_gb.loc[['left_only', 'both']]\n",
    "performance_gb['bad_rate'] = performance_gb[('bad', 'sum')] / performance_gb[('bad', 'count')]\n",
    "performance_gb.index = ['No Applicant Matched', 'Applicant Matched']\n",
    "performance_gb[['bad_rate']]"
   ]
  },
  {
   "cell_type": "markdown",
   "id": "da1f2d6c",
   "metadata": {},
   "source": [
    "## Building the Data Dictionary"
   ]
  },
  {
   "cell_type": "code",
   "execution_count": 11,
   "id": "edcbd55a",
   "metadata": {},
   "outputs": [],
   "source": [
    "# Build data dictionary\n",
    "data_dict = pd.DataFrame()\n",
    "data_dict['variable'] = data.columns\n",
    "data_dict['var_dtype'] = data.dtypes.values"
   ]
  },
  {
   "cell_type": "code",
   "execution_count": 12,
   "id": "fc267068",
   "metadata": {},
   "outputs": [],
   "source": [
    "# Hand annotation of variable categories\n",
    "# Manual first-pass before automated dimensionality reduction \n",
    "\n",
    "category_dict = {\n",
    "    'customer_id': 'performance', \n",
    "    'amount_requested': 'terms',\n",
    "    'birth_date': 'protected', # Age is a protected class\n",
    "    'status': 'terms', # All are approved -- missing the rejected population\n",
    "    'residence_rent_or_own': 'personal_finance',\n",
    "    'monthly_rent_amount': 'personal_finance',\n",
    "    'bank_account_direct_deposit': 'personal_finance',\n",
    "    'application_when': 'application', # Detect seasonality in submissions / defaults? \n",
    "    'loan_duration': 'application',  \n",
    "    'payment_ach': 'personal_finance', # All but one are true -- not useful\n",
    "    'num_payments': 'terms', \n",
    "    'payment_amount': 'terms',\n",
    "    'amount_approved': 'terms',\n",
    "    'duration_approved': 'terms', # Might affect default rates\n",
    "    'payment_amount_approved': 'terms',\n",
    "    'address_zip': 'protected', # DI Analysis: ZIP -> Census data -> Race\n",
    "    'email': 'protected', # DI Analysis: Email -> Last name -> Census data -> Race\n",
    "    'bank_routing_number': 'protected', # Extract bank info\n",
    "    'email_duration': 'other_info', # DI correlation with age\n",
    "    'residence_duration': 'other_info', # DI correlation with age\n",
    "    'bank_account_duration': 'personal_finance', # DI correlation with age\n",
    "    'payment_frequency': 'personal_finance', \n",
    "    'home_phone_type': 'other_info', \n",
    "    'other_phone_type': 'other_info', \n",
    "    'how_use_money': 'personal_finance', # Allow for different produces\n",
    "    'monthly_income_amount': 'personal_finance',\n",
    "    'raw_l2c_score': 'credit_score',\n",
    "    'raw_FICO_telecom': 'credit_score',\n",
    "    'raw_FICO_retail': 'credit_score',\n",
    "    'raw_FICO_bank_card': 'credit_score',\n",
    "    'raw_FICO_money': 'credit_score',\n",
    "    'idLoan': 'performance', # Separate loans are separate records\n",
    "    'flgGood': 'performance',\n",
    "    'bad': 'performance', # Focus on 'bad' outcome\n",
    "    'good': 'performance'\n",
    "}\n",
    "\n",
    "data_dict['eda_category'] = data_dict.apply(lambda x: category_dict[x.variable], axis=1)"
   ]
  },
  {
   "cell_type": "code",
   "execution_count": 13,
   "id": "a865b7f5",
   "metadata": {},
   "outputs": [],
   "source": [
    "# Categorical vs. Continuous tagging\n",
    "\"\"\"\n",
    "Whether a variable is categorical or continuous is one of the\n",
    "most important facts to know about it throughout the ML pipeline. \n",
    "It affects your data cleaning (one-hot encoding), your dimensionality\n",
    "reduction (ANOVA vs Chi Square), and modeling (tagging categoricals).\n",
    "\n",
    "A more thorough analysis would indicate binary vs nominal vs ordinal. \n",
    "\n",
    "\"\"\"\n",
    "\n",
    "# Convert np.NaN to None for non-numeric columns\n",
    "data = data.where(pd.notnull(data), None)\n",
    "\n",
    "\n",
    "# Convert types as desired\n",
    "data = data.astype({\n",
    "    'customer_id': str,\n",
    "    'status': str,\n",
    "    'address_zip': str,\n",
    "    'email': str,\n",
    "    'bank_routing_number': str,\n",
    "    'email_duration': str,\n",
    "    'residence_duration': str,\n",
    "    'bank_account_duration': str,\n",
    "    'payment_frequency': str,\n",
    "    'home_phone_type': str,\n",
    "    'other_phone_type': str,\n",
    "    'how_use_money': str,\n",
    "    'idLoan': str\n",
    "})\n",
    "\n",
    "# Update dictionary with new types\n",
    "data_dict['var_dtype'] = data.dtypes.values\n",
    "\n",
    "# Categorization by type\n",
    "type_categorization = {\n",
    "    'object': 1,\n",
    "    'bool': 1,\n",
    "    'int64': 0,\n",
    "    'uint8': 0,\n",
    "    'float64': 0,\n",
    "    'datetime64[ns]': 1\n",
    "}\n",
    "\n",
    "data_dict['categorical'] = data_dict.apply(lambda x: type_categorization[str(x.var_dtype)], axis=1)"
   ]
  },
  {
   "cell_type": "code",
   "execution_count": 14,
   "id": "7a08ba85",
   "metadata": {},
   "outputs": [],
   "source": [
    "# Coverage for each variable\n",
    "data_dict['coverage'] = data.count().values / data.shape[0]"
   ]
  },
  {
   "cell_type": "code",
   "execution_count": 15,
   "id": "9175ff0f",
   "metadata": {},
   "outputs": [
    {
     "data": {
      "text/html": [
       "<div>\n",
       "<style scoped>\n",
       "    .dataframe tbody tr th:only-of-type {\n",
       "        vertical-align: middle;\n",
       "    }\n",
       "\n",
       "    .dataframe tbody tr th {\n",
       "        vertical-align: top;\n",
       "    }\n",
       "\n",
       "    .dataframe thead th {\n",
       "        text-align: right;\n",
       "    }\n",
       "</style>\n",
       "<table border=\"1\" class=\"dataframe\">\n",
       "  <thead>\n",
       "    <tr style=\"text-align: right;\">\n",
       "      <th></th>\n",
       "      <th>variable</th>\n",
       "      <th>var_dtype</th>\n",
       "      <th>eda_category</th>\n",
       "      <th>categorical</th>\n",
       "      <th>coverage</th>\n",
       "    </tr>\n",
       "  </thead>\n",
       "  <tbody>\n",
       "    <tr>\n",
       "      <th>0</th>\n",
       "      <td>customer_id</td>\n",
       "      <td>object</td>\n",
       "      <td>performance</td>\n",
       "      <td>1</td>\n",
       "      <td>1.0</td>\n",
       "    </tr>\n",
       "    <tr>\n",
       "      <th>1</th>\n",
       "      <td>amount_requested</td>\n",
       "      <td>int64</td>\n",
       "      <td>terms</td>\n",
       "      <td>0</td>\n",
       "      <td>1.0</td>\n",
       "    </tr>\n",
       "    <tr>\n",
       "      <th>2</th>\n",
       "      <td>birth_date</td>\n",
       "      <td>datetime64[ns]</td>\n",
       "      <td>protected</td>\n",
       "      <td>1</td>\n",
       "      <td>1.0</td>\n",
       "    </tr>\n",
       "    <tr>\n",
       "      <th>3</th>\n",
       "      <td>status</td>\n",
       "      <td>object</td>\n",
       "      <td>terms</td>\n",
       "      <td>1</td>\n",
       "      <td>1.0</td>\n",
       "    </tr>\n",
       "    <tr>\n",
       "      <th>4</th>\n",
       "      <td>residence_rent_or_own</td>\n",
       "      <td>bool</td>\n",
       "      <td>personal_finance</td>\n",
       "      <td>1</td>\n",
       "      <td>1.0</td>\n",
       "    </tr>\n",
       "  </tbody>\n",
       "</table>\n",
       "</div>"
      ],
      "text/plain": [
       "                variable       var_dtype      eda_category  categorical  \\\n",
       "0            customer_id          object       performance            1   \n",
       "1       amount_requested           int64             terms            0   \n",
       "2             birth_date  datetime64[ns]         protected            1   \n",
       "3                 status          object             terms            1   \n",
       "4  residence_rent_or_own            bool  personal_finance            1   \n",
       "\n",
       "   coverage  \n",
       "0       1.0  \n",
       "1       1.0  \n",
       "2       1.0  \n",
       "3       1.0  \n",
       "4       1.0  "
      ]
     },
     "execution_count": 15,
     "metadata": {},
     "output_type": "execute_result"
    }
   ],
   "source": [
    "data_dict.head()"
   ]
  },
  {
   "cell_type": "markdown",
   "id": "b8c1bd06",
   "metadata": {},
   "source": [
    "## Pandas Profiling"
   ]
  },
  {
   "cell_type": "code",
   "execution_count": 16,
   "id": "479df297",
   "metadata": {},
   "outputs": [
    {
     "data": {
      "application/vnd.jupyter.widget-view+json": {
       "model_id": "14505abc023f47e7a52f324d24ae791b",
       "version_major": 2,
       "version_minor": 0
      },
      "text/plain": [
       "Summarize dataset:   0%|          | 0/5 [00:00<?, ?it/s]"
      ]
     },
     "metadata": {},
     "output_type": "display_data"
    },
    {
     "data": {
      "application/vnd.jupyter.widget-view+json": {
       "model_id": "510f3c190f51436abe6e6874306a7fdd",
       "version_major": 2,
       "version_minor": 0
      },
      "text/plain": [
       "Generate report structure:   0%|          | 0/1 [00:00<?, ?it/s]"
      ]
     },
     "metadata": {},
     "output_type": "display_data"
    },
    {
     "data": {
      "application/vnd.jupyter.widget-view+json": {
       "model_id": "e20cec54fe5e428886bac4a933079b26",
       "version_major": 2,
       "version_minor": 0
      },
      "text/plain": [
       "Render HTML:   0%|          | 0/1 [00:00<?, ?it/s]"
      ]
     },
     "metadata": {},
     "output_type": "display_data"
    },
    {
     "data": {
      "application/vnd.jupyter.widget-view+json": {
       "model_id": "dec0a36b45f44f58b90cf12ec27b6c19",
       "version_major": 2,
       "version_minor": 0
      },
      "text/plain": [
       "Export report to file:   0%|          | 0/1 [00:00<?, ?it/s]"
      ]
     },
     "metadata": {},
     "output_type": "display_data"
    }
   ],
   "source": [
    "from pandas_profiling import ProfileReport\n",
    "\n",
    "profile = ProfileReport(data, minimal=True)\n",
    "\n",
    "profile.to_file('final_products/eda_profile.html')"
   ]
  },
  {
   "cell_type": "markdown",
   "id": "72702be2",
   "metadata": {},
   "source": [
    "## Export Data"
   ]
  },
  {
   "cell_type": "code",
   "execution_count": 17,
   "id": "e46d8a42",
   "metadata": {},
   "outputs": [],
   "source": [
    "data.to_pickle('output_data/00_data.pkl')\n",
    "data_dict.to_pickle('output_data/00_data_dict.pkl')"
   ]
  }
 ],
 "metadata": {
  "kernelspec": {
   "display_name": "Python 3",
   "language": "python",
   "name": "python3"
  },
  "language_info": {
   "codemirror_mode": {
    "name": "ipython",
    "version": 3
   },
   "file_extension": ".py",
   "mimetype": "text/x-python",
   "name": "python",
   "nbconvert_exporter": "python",
   "pygments_lexer": "ipython3",
   "version": "3.8.8"
  }
 },
 "nbformat": 4,
 "nbformat_minor": 5
}
